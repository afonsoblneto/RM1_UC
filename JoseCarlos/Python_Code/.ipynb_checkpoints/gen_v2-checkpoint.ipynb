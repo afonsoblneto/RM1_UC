{
 "cells": [
  {
   "cell_type": "code",
   "execution_count": 32,
   "metadata": {},
   "outputs": [],
   "source": [
    "from random import *\n",
    "def generate_input_data(count_file, n, eps, maxr, func_rand):\n",
    "    \n",
    "    #percent = \"%0.6f\" % float(eps)\n",
    "    percent = \"%0.2f\" % float(eps)\n",
    "    #file_name = str(count_file)+\"_\"+str(n)+\"_\"+percent+\"_\"+str(maxr)+\"_\"+func_rand+\"_data.in\"\n",
    "    file_name = str(count_file)+\"_data.in\"\n",
    "    f = open(file_name,\"w\")\n",
    "    f.write(str(eps) + \" \" + str(n))\n",
    "\n",
    "    for i in range(n):\n",
    "        if(func_rand==\"Randint\"):\n",
    "            f.write(\" \" + str(randint(1,maxr)))\n",
    "    f.write(\"\\n\")\n",
    "\n",
    "    f.close()\n",
    "    \n",
    "    print(\"Generated file: \"+file_name)\n"
   ]
  },
  {
   "cell_type": "code",
   "execution_count": 33,
   "metadata": {},
   "outputs": [
    {
     "data": {
      "text/plain": [
       "'3.00000'"
      ]
     },
     "execution_count": 33,
     "metadata": {},
     "output_type": "execute_result"
    }
   ],
   "source": [
    "\"%0.5f\" % 3"
   ]
  },
  {
   "cell_type": "code",
   "execution_count": 35,
   "metadata": {},
   "outputs": [
    {
     "name": "stdout",
     "output_type": "stream",
     "text": [
      "Generated file: 1_Randint_data.in\n",
      "Generated file: 2_Randint_data.in\n",
      "Generated file: 3_Randint_data.in\n",
      "Generated file: 4_Randint_data.in\n",
      "Generated file: 5_Randint_data.in\n",
      "Generated file: 6_Randint_data.in\n",
      "Generated file: 7_Randint_data.in\n",
      "Generated file: 8_Randint_data.in\n",
      "Generated file: 9_Randint_data.in\n",
      "Generated file: 10_Randint_data.in\n",
      "Generated file: 11_Randint_data.in\n",
      "Generated file: 12_Randint_data.in\n",
      "Generated file: 13_Randint_data.in\n",
      "Generated file: 14_Randint_data.in\n",
      "Generated file: 15_Randint_data.in\n",
      "Generated file: 16_Randint_data.in\n",
      "Generated file: 17_Randint_data.in\n",
      "Generated file: 18_Randint_data.in\n",
      "Generated file: 19_Randint_data.in\n",
      "Generated file: 20_Randint_data.in\n",
      "Generated file: 21_Randint_data.in\n",
      "Generated file: 22_Randint_data.in\n",
      "Generated file: 23_Randint_data.in\n",
      "Generated file: 24_Randint_data.in\n"
     ]
    }
   ],
   "source": [
    "import csv\n",
    "\n",
    "with open(\"parameters.CSV\", \"r\" ) as f:\n",
    "    reader = csv.reader(f, delimiter=\";\")\n",
    "    files_list = list(reader)\n",
    "\n",
    "#print(files_list)\n",
    "count_files = 1\n",
    "for item in files_list:\n",
    "    if(item[0][0]!=\"n\"):\n",
    "        #print(item[0]+item[1]+item[2]+item[3])\n",
    "        generate_input_data(count_files, int(item[0]), item[1], int(item[2]), item[3])\n",
    "        count_files = count_files + 1"
   ]
  },
  {
   "cell_type": "code",
   "execution_count": null,
   "metadata": {},
   "outputs": [],
   "source": []
  },
  {
   "cell_type": "code",
   "execution_count": null,
   "metadata": {},
   "outputs": [],
   "source": []
  }
 ],
 "metadata": {
  "kernelspec": {
   "display_name": "Python 3",
   "language": "python",
   "name": "python3"
  },
  "language_info": {
   "codemirror_mode": {
    "name": "ipython",
    "version": 3
   },
   "file_extension": ".py",
   "mimetype": "text/x-python",
   "name": "python",
   "nbconvert_exporter": "python",
   "pygments_lexer": "ipython3",
   "version": "3.6.5"
  }
 },
 "nbformat": 4,
 "nbformat_minor": 2
}
