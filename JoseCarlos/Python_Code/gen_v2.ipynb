{
 "cells": [
  {
   "cell_type": "code",
   "execution_count": 15,
   "metadata": {},
   "outputs": [],
   "source": [
    "from random import *\n",
    "def generate_input_data(n, eps, maxr, func_rand):\n",
    "    \n",
    "    percent = \"%0.6f\" % float(eps)\n",
    "    file_name = \"data_\"+str(n)+\"_\"+percent+\"_\"+str(maxr)+\"_\"+func_rand+\".in\"\n",
    "    f = open(file_name,\"w\")\n",
    "    f.write(str(eps) + \" \" + str(n))\n",
    "\n",
    "    for i in range(n):\n",
    "        if(func_rand==\"Randint\"):\n",
    "            f.write(\" \" + str(randint(1,maxr)))\n",
    "    f.write(\"\\n\")\n",
    "\n",
    "    f.close()\n",
    "    \n",
    "    print(\"Generated file: \"+file_name)\n"
   ]
  },
  {
   "cell_type": "code",
   "execution_count": 16,
   "metadata": {},
   "outputs": [
    {
     "data": {
      "text/plain": [
       "'3.00000'"
      ]
     },
     "execution_count": 16,
     "metadata": {},
     "output_type": "execute_result"
    }
   ],
   "source": [
    "\"%0.5f\" % 3"
   ]
  },
  {
   "cell_type": "code",
   "execution_count": 17,
   "metadata": {},
   "outputs": [
    {
     "name": "stdout",
     "output_type": "stream",
     "text": [
      "Generated file: data_100_0.010000_50_Randint.in\n",
      "Generated file: data_100_0.050000_55_Randint.in\n",
      "Generated file: data_100_0.100000_60_Randint.in\n",
      "Generated file: data_100_0.150000_65_Randint.in\n",
      "Generated file: data_1000_0.010000_50_Randint.in\n",
      "Generated file: data_1000_0.050000_55_Randint.in\n",
      "Generated file: data_1000_0.100000_60_Randint.in\n",
      "Generated file: data_1000_0.150000_65_Randint.in\n",
      "Generated file: data_5000_0.010000_50_Randint.in\n",
      "Generated file: data_5000_0.050000_55_Randint.in\n",
      "Generated file: data_5000_0.100000_60_Randint.in\n",
      "Generated file: data_5000_0.150000_65_Randint.in\n",
      "Generated file: data_10000_0.010000_50_Randint.in\n",
      "Generated file: data_10000_0.050000_55_Randint.in\n",
      "Generated file: data_10000_0.100000_60_Randint.in\n",
      "Generated file: data_10000_0.150000_65_Randint.in\n",
      "Generated file: data_50000_0.010000_50_Randint.in\n",
      "Generated file: data_50000_0.050000_55_Randint.in\n",
      "Generated file: data_50000_0.100000_60_Randint.in\n",
      "Generated file: data_50000_0.150000_65_Randint.in\n",
      "Generated file: data_100000_0.010000_50_Randint.in\n",
      "Generated file: data_100000_0.050000_55_Randint.in\n",
      "Generated file: data_100000_0.100000_60_Randint.in\n",
      "Generated file: data_100000_0.150000_65_Randint.in\n"
     ]
    }
   ],
   "source": [
    "import csv\n",
    "\n",
    "with open(\"parameters.CSV\", \"r\" ) as f:\n",
    "    reader = csv.reader(f, delimiter=\";\")\n",
    "    files_list = list(reader)\n",
    "\n",
    "#print(files_list)\n",
    "\n",
    "for item in files_list:\n",
    "    if(item[0][0]!=\"n\"):\n",
    "        #print(item[0]+item[1]+item[2]+item[3])\n",
    "        generate_input_data(int(item[0]), item[1], int(item[2]), item[3])"
   ]
  },
  {
   "cell_type": "code",
   "execution_count": null,
   "metadata": {},
   "outputs": [],
   "source": []
  }
 ],
 "metadata": {
  "kernelspec": {
   "display_name": "Python 3",
   "language": "python",
   "name": "python3"
  },
  "language_info": {
   "codemirror_mode": {
    "name": "ipython",
    "version": 3
   },
   "file_extension": ".py",
   "mimetype": "text/x-python",
   "name": "python",
   "nbconvert_exporter": "python",
   "pygments_lexer": "ipython3",
   "version": "3.6.5"
  }
 },
 "nbformat": 4,
 "nbformat_minor": 2
}
