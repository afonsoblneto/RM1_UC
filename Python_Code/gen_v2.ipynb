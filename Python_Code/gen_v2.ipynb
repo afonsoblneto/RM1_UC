{
 "cells": [
  {
   "cell_type": "code",
   "execution_count": null,
   "metadata": {},
   "outputs": [],
   "source": [
    "from random import *\n",
    "def generate_input_data(count_file, n, eps, maxr, func_rand):\n",
    "    \n",
    "    #percent = \"%0.6f\" % float(eps)\n",
    "    percent = \"%0.2f\" % float(eps)\n",
    "    #file_name = str(count_file)+\"_\"+str(n)+\"_\"+percent+\"_\"+str(maxr)+\"_\"+func_rand+\"_data.in\"\n",
    "    file_name = str(count_file)+\"_data.in\"\n",
    "    f = open(file_name,\"w\")\n",
    "    f.write(str(eps) + \" \" + str(n))\n",
    "\n",
    "    for i in range(n):\n",
    "        if(func_rand==\"Randint\"):\n",
    "            f.write(\" \" + str(randint(1,maxr)))\n",
    "    f.write(\"\\n\")\n",
    "\n",
    "    f.close()\n",
    "    \n",
    "    print(\"Generated file: \"+file_name)\n"
   ]
  },
  {
   "cell_type": "code",
   "execution_count": null,
   "metadata": {},
   "outputs": [],
   "source": [
    "import csv\n",
    "\n",
    "with open(\"parameters.CSV\", \"r\" ) as f:\n",
    "    reader = csv.reader(f, delimiter=\";\")\n",
    "    files_list = list(reader)\n",
    "\n",
    "#print(files_list)\n",
    "count_files = 1\n",
    "for item in files_list:\n",
    "    if(item[0][0]!=\"n\"):\n",
    "        #print(item[0]+item[1]+item[2]+item[3])\n",
    "        generate_input_data(count_files, int(item[0]), item[1], int(item[0])/2, item[3])\n",
    "        count_files = count_files + 1"
   ]
  },
  {
   "cell_type": "code",
   "execution_count": null,
   "metadata": {},
   "outputs": [],
   "source": [
    "import subprocess\n",
    "\n",
    "number_of_samples = 50\n",
    "\n",
    "for number in range(number_of_samples):\n",
    "    print(\"Generating sample \"+str(number+1)+\" for Quick\")\n",
    "    subprocess.check_call(['quick.exe']) \n",
    "    print(\"Generating sample \"+str(number+1)+\" for Merge\")\n",
    "    subprocess.check_call(['merge.exe']) \n",
    "    print(\"Generating sample \"+str(number+1)+\" for Insertion\")\n",
    "    subprocess.check_call(['insertion.exe']) \n",
    "    print(\"Generating sample \"+str(number+1)+\" for Bubble\")\n",
    "    subprocess.check_call(['bubble.exe']) \n"
   ]
  },
  {
   "cell_type": "code",
   "execution_count": null,
   "metadata": {},
   "outputs": [],
   "source": []
  }
 ],
 "metadata": {
  "kernelspec": {
   "display_name": "Python 3",
   "language": "python",
   "name": "python3"
  },
  "language_info": {
   "codemirror_mode": {
    "name": "ipython",
    "version": 3
   },
   "file_extension": ".py",
   "mimetype": "text/x-python",
   "name": "python",
   "nbconvert_exporter": "python",
   "pygments_lexer": "ipython3",
   "version": "3.6.5"
  }
 },
 "nbformat": 4,
 "nbformat_minor": 2
}
